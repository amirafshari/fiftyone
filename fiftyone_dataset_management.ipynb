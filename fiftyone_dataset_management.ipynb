{
 "cells": [
  {
   "cell_type": "markdown",
   "id": "1d718a4e-8d9f-456c-b34b-fff19252680a",
   "metadata": {},
   "source": [
    "# Dataset"
   ]
  },
  {
   "cell_type": "code",
   "execution_count": 2,
   "id": "ebd9a34e-72ce-4c2b-b1c9-7de98336859d",
   "metadata": {},
   "outputs": [],
   "source": [
    "import fiftyone as fo"
   ]
  },
  {
   "cell_type": "markdown",
   "id": "507d6bd4-724a-4c75-8f60-f31a73027349",
   "metadata": {},
   "source": [
    "### Create the dataset\n",
    "https://voxel51.com/docs/fiftyone/user_guide/dataset_creation/datasets.html"
   ]
  },
  {
   "cell_type": "code",
   "execution_count": 3,
   "id": "97d8f4f2-1019-4dce-a87d-cb0f3c479aee",
   "metadata": {},
   "outputs": [],
   "source": [
    "name = \"traffic_light\""
   ]
  },
  {
   "cell_type": "code",
   "execution_count": 6,
   "id": "8e868853-013b-423d-9bc7-4cab6bf812c8",
   "metadata": {
    "tags": []
   },
   "outputs": [
    {
     "name": "stdout",
     "output_type": "stream",
     "text": []
    },
    {
     "name": "stdout",
     "output_type": "stream",
     "text": [
      " 100% |█████████████████| 981/981 [1.1s elapsed, 0s remaining, 863.4 samples/s]         \n",
      " 100% |█████████████████| 200/200 [306.1ms elapsed, 0s remaining, 655.8 samples/s]      \n",
      " 100% |█████████████████| 100/100 [151.9ms elapsed, 0s remaining, 663.8 samples/s]    \n"
     ]
    }
   ],
   "source": [
    "dataset_dir = \"dataset/\"\n",
    "splits = [\"train\", \"val\", 'test']\n",
    "\n",
    "dataset = fo.Dataset(name)\n",
    "\n",
    "for split in splits:\n",
    "    dataset.add_dir(\n",
    "        dataset_dir=dataset_dir,\n",
    "        dataset_type=fo.types.YOLOv5Dataset,\n",
    "        split=split,\n",
    "        tags=split,\n",
    ")"
   ]
  },
  {
   "cell_type": "markdown",
   "id": "27b26f0a-e590-49ed-ac4b-98d92237d8ff",
   "metadata": {},
   "source": [
    "### Load the dataset"
   ]
  },
  {
   "cell_type": "code",
   "execution_count": 29,
   "id": "a7cd35b1-438d-4000-9921-a04cb9ed1d73",
   "metadata": {},
   "outputs": [],
   "source": [
    "dataset = fo.load_dataset(name)"
   ]
  },
  {
   "cell_type": "markdown",
   "id": "1f20bf66-f611-4486-ba43-4b33472baa40",
   "metadata": {},
   "source": [
    "### Make the daatset persistent\n",
    "https://voxel51.com/docs/fiftyone/user_guide/using_datasets.html#dataset-persistence"
   ]
  },
  {
   "cell_type": "code",
   "execution_count": 27,
   "id": "24acf0b3-5497-4eaa-beb9-2be7bd0bdd72",
   "metadata": {},
   "outputs": [],
   "source": [
    "dataset.persistent = True"
   ]
  },
  {
   "cell_type": "markdown",
   "id": "c918da7c-d4bd-4836-b3a8-e27a69817388",
   "metadata": {},
   "source": [
    "### Summary of the dataset"
   ]
  },
  {
   "cell_type": "code",
   "execution_count": null,
   "id": "0fa9ef3a-cd5d-4c38-a2c6-2e4521c91f1e",
   "metadata": {},
   "outputs": [],
   "source": [
    "print(dataset)"
   ]
  },
  {
   "cell_type": "code",
   "execution_count": null,
   "id": "6b21dc6a-a6cd-4478-a2c3-4036104f59a6",
   "metadata": {},
   "outputs": [],
   "source": [
    "len(dataset)"
   ]
  },
  {
   "cell_type": "markdown",
   "id": "a3ac1ccf-5e95-49a0-a34a-2c6476c6f775",
   "metadata": {
    "tags": []
   },
   "source": [
    "### Launch the dataset"
   ]
  },
  {
   "cell_type": "code",
   "execution_count": 7,
   "id": "ebe6055f-8888-4e67-bedb-23cf57a2b87c",
   "metadata": {
    "tags": []
   },
   "outputs": [
    {
     "data": {
      "text/html": [
       "\n",
       "        <iframe\n",
       "            width=\"100%\"\n",
       "            height=\"800\"\n",
       "            src=\"http://localhost:5151/?notebook=true&handleId=86b0e722-cf30-4cc3-a18b-8e2f01183b48\"\n",
       "            frameborder=\"0\"\n",
       "            allowfullscreen\n",
       "            \n",
       "        ></iframe>\n",
       "        "
      ],
      "text/plain": [
       "<IPython.lib.display.IFrame at 0x7f0d34a384c0>"
      ]
     },
     "metadata": {},
     "output_type": "display_data"
    }
   ],
   "source": [
    "session = fo.launch_app(dataset)"
   ]
  },
  {
   "cell_type": "markdown",
   "id": "9869cfc1-33b7-4eeb-b7d9-6b032112ab7b",
   "metadata": {},
   "source": [
    "### List the datasets"
   ]
  },
  {
   "cell_type": "code",
   "execution_count": null,
   "id": "92265038-fc14-4aae-9487-93dcc3c281c6",
   "metadata": {},
   "outputs": [],
   "source": [
    "fo.list_datasets()"
   ]
  },
  {
   "cell_type": "markdown",
   "id": "ec21e826-6197-420e-9357-3b937084aff5",
   "metadata": {},
   "source": [
    "### Delete the dataset"
   ]
  },
  {
   "cell_type": "code",
   "execution_count": 4,
   "id": "28313d11-61bf-4957-b89f-a1c496fa9d9f",
   "metadata": {},
   "outputs": [],
   "source": [
    "fo.delete_dataset(name)"
   ]
  },
  {
   "cell_type": "markdown",
   "id": "dba76221-b2d4-4c2a-91dc-d633161b2d70",
   "metadata": {},
   "source": [
    "### Clear Session"
   ]
  },
  {
   "cell_type": "code",
   "execution_count": 5,
   "id": "eefb7dae-c113-4b59-ae81-22d81359f4e3",
   "metadata": {
    "tags": []
   },
   "outputs": [
    {
     "ename": "NameError",
     "evalue": "name 'session' is not defined",
     "output_type": "error",
     "traceback": [
      "\u001b[0;31m---------------------------------------------------------------------------\u001b[0m",
      "\u001b[0;31mNameError\u001b[0m                                 Traceback (most recent call last)",
      "\u001b[0;32m/tmp/ipykernel_9922/2652497273.py\u001b[0m in \u001b[0;36m<module>\u001b[0;34m\u001b[0m\n\u001b[0;32m----> 1\u001b[0;31m \u001b[0msession\u001b[0m\u001b[0;34m.\u001b[0m\u001b[0mclear_dataset\u001b[0m\u001b[0;34m(\u001b[0m\u001b[0;34m)\u001b[0m\u001b[0;34m\u001b[0m\u001b[0;34m\u001b[0m\u001b[0m\n\u001b[0m\u001b[1;32m      2\u001b[0m \u001b[0msession\u001b[0m\u001b[0;34m.\u001b[0m\u001b[0mclose\u001b[0m\u001b[0;34m(\u001b[0m\u001b[0;34m)\u001b[0m\u001b[0;34m\u001b[0m\u001b[0;34m\u001b[0m\u001b[0m\n",
      "\u001b[0;31mNameError\u001b[0m: name 'session' is not defined"
     ]
    }
   ],
   "source": [
    "session.clear_dataset()\n",
    "session.close()"
   ]
  },
  {
   "cell_type": "markdown",
   "id": "1077e6f0-1ae1-4cec-aae8-fac3110e7be7",
   "metadata": {},
   "source": [
    "# Make changes to the dataset"
   ]
  },
  {
   "cell_type": "markdown",
   "id": "5b68e3e4-b4a0-4451-881b-628376758ae4",
   "metadata": {},
   "source": [
    "### Dataset view"
   ]
  },
  {
   "cell_type": "code",
   "execution_count": null,
   "id": "5bf38035-27e2-4195-923d-a18cf490cbb4",
   "metadata": {},
   "outputs": [],
   "source": [
    "view = dataset.view()"
   ]
  },
  {
   "cell_type": "code",
   "execution_count": null,
   "id": "6bb3fbad-f476-4b76-a80f-098543f96aaf",
   "metadata": {},
   "outputs": [],
   "source": [
    "session = fo.launch_app(view)"
   ]
  },
  {
   "cell_type": "markdown",
   "id": "eea8e01f-4887-463a-9c28-7f97b0dbb526",
   "metadata": {},
   "source": [
    "### Selected Images IDs"
   ]
  },
  {
   "cell_type": "code",
   "execution_count": null,
   "id": "b5c048b4-2273-408f-94ff-628fdceda894",
   "metadata": {},
   "outputs": [],
   "source": [
    "selected = session.selected"
   ]
  },
  {
   "cell_type": "markdown",
   "id": "e196c212-070f-4848-bfd4-3aa577aa3d99",
   "metadata": {},
   "source": [
    "### Iterate over samples"
   ]
  },
  {
   "cell_type": "code",
   "execution_count": 31,
   "id": "3161d460-af63-43c1-96ec-7b1d13b925a4",
   "metadata": {},
   "outputs": [],
   "source": [
    "delete_files = []\n",
    "edit_files = []"
   ]
  },
  {
   "cell_type": "code",
   "execution_count": 32,
   "id": "c73462ab-1d57-4784-a451-f75084d73f80",
   "metadata": {},
   "outputs": [],
   "source": [
    "# sample tags\n",
    "for sample in dataset:\n",
    "    if 'delete' in sample['tags']:\n",
    "        delete_files.append(sample['filepath'])\n",
    "        \n",
    "# sample tags\n",
    "for sample in dataset:\n",
    "    if 'edit' in sample['tags']:\n",
    "        edit_files.append(sample['filepath'])\n",
    "        "
   ]
  },
  {
   "cell_type": "code",
   "execution_count": null,
   "id": "5a2c28d6-23a4-429e-937d-afffe6a04e2f",
   "metadata": {
    "tags": []
   },
   "outputs": [],
   "source": [
    "# label tags\n",
    "for sample in dataset:\n",
    "    new_sample = sample['ground_truth']['detections']\n",
    "    for spl in new_sample:\n",
    "        if spl['tags'] == ['add']:\n",
    "            add_files.append(sample['filepath'])"
   ]
  },
  {
   "cell_type": "code",
   "execution_count": null,
   "id": "2238aac9-9071-4ba8-9d3e-0485a2965ece",
   "metadata": {},
   "outputs": [],
   "source": [
    "len(delete_files)"
   ]
  },
  {
   "cell_type": "code",
   "execution_count": 33,
   "id": "e74a46b2-3161-4d76-82eb-246b3422d544",
   "metadata": {},
   "outputs": [],
   "source": [
    "import numpy as np\n",
    "np.savetxt('delete.txt', delete_files, fmt='%s')\n",
    "np.savetxt('edit.txt', edit_files, fmt='%s')"
   ]
  },
  {
   "cell_type": "markdown",
   "id": "ec9d98aa-2590-4db1-950b-b3c425bf5ac7",
   "metadata": {},
   "source": [
    "### Delete them from dataset by ID"
   ]
  },
  {
   "cell_type": "code",
   "execution_count": null,
   "id": "483727b4-77db-4e68-8d52-eef41e2bb1cc",
   "metadata": {},
   "outputs": [],
   "source": [
    "for item in delete_ids:\n",
    "    del dataset[item]"
   ]
  },
  {
   "cell_type": "markdown",
   "id": "064f7cd0-b553-4184-abfd-426b2e3ecf26",
   "metadata": {},
   "source": [
    "# Brain"
   ]
  },
  {
   "cell_type": "code",
   "execution_count": null,
   "id": "9f9c3e9c-f1c2-4896-bc53-7b90d6eabe94",
   "metadata": {},
   "outputs": [],
   "source": [
    "import fiftyone.brain as fob"
   ]
  },
  {
   "cell_type": "markdown",
   "id": "74006ec8-6f47-4f11-9351-755d4fed53fd",
   "metadata": {},
   "source": [
    "### Find unique samples"
   ]
  },
  {
   "cell_type": "code",
   "execution_count": null,
   "id": "6bbd5cc5-fd35-45cd-9410-2e3097cb5183",
   "metadata": {},
   "outputs": [],
   "source": [
    "results = fob.compute_similarity(dataset, brain_key=\"img_sim\")\n",
    "results.find_unique(100)"
   ]
  },
  {
   "cell_type": "code",
   "execution_count": null,
   "id": "7890c0fa-2e31-4f90-84ba-126b8c71a91c",
   "metadata": {},
   "outputs": [],
   "source": [
    "vis_results = fob.compute_visualization(dataset, brain_key=\"img_vis\")"
   ]
  },
  {
   "cell_type": "code",
   "execution_count": null,
   "id": "fc3fd120-60fb-43e2-af3f-1a2e6d87581d",
   "metadata": {},
   "outputs": [],
   "source": [
    "plot = results.visualize_unique(visualization=vis_results)\n",
    "plot.show()"
   ]
  },
  {
   "cell_type": "code",
   "execution_count": null,
   "id": "45404c19-1b7c-4888-ac15-cd8a5090e629",
   "metadata": {},
   "outputs": [],
   "source": [
    "session.plots.attach(plot, name=\"unique\")\n",
    "session.show()"
   ]
  },
  {
   "cell_type": "markdown",
   "id": "bbf66a79-c0ba-4c4c-b2f0-8c0abbbb9909",
   "metadata": {},
   "source": [
    "### Visual similarity"
   ]
  },
  {
   "cell_type": "code",
   "execution_count": null,
   "id": "eae24af6-1d14-4dfe-b8aa-87295b74a1a6",
   "metadata": {
    "tags": []
   },
   "outputs": [],
   "source": [
    "# index images by similarity\n",
    "fob.compute_similarity(dataset, brain_key=\"image_sim\")\n",
    "\n",
    "# launch the app and then select an image and then apply image_sim with sort by similarity button\n",
    "session = fo.launch_app(dataset)"
   ]
  },
  {
   "cell_type": "code",
   "execution_count": null,
   "id": "c6415289-4b8a-4e60-ba32-65a75cab947c",
   "metadata": {},
   "outputs": [],
   "source": [
    "# Choose a random image from the dataset\n",
    "query_id = dataset.take(1).first().id\n",
    "\n",
    "# Programmatically construct a view containing the 15 most similar images\n",
    "view = dataset.sort_by_similarity(query_id, k=15, brain_key=\"image_sim\")\n",
    "\n",
    "# View results in App\n",
    "session.view = view"
   ]
  },
  {
   "cell_type": "markdown",
   "id": "bb4ce2f5-3549-46aa-87f9-daa71a73acf1",
   "metadata": {},
   "source": [
    "# Export the new dataset"
   ]
  },
  {
   "cell_type": "code",
   "execution_count": null,
   "id": "6a5e8645",
   "metadata": {},
   "outputs": [],
   "source": [
    "import fiftyone as fo\n",
    "\n",
    "export_dir = \"yolov5-dataset/\"\n",
    "label_field = \"ground_truth\"  # for example\n",
    "\n",
    "# The splits to export\n",
    "splits = [\"train\", \"val\", 'test']\n",
    "\n",
    "# All splits must use the same classes list\n",
    "classes = ['traffic_sign']\n",
    "\n",
    "# The dataset or view to export\n",
    "# We assume the dataset uses sample tags to encode the splits to export\n",
    "dataset_or_view = dataset\n",
    "\n",
    "# Export the splits\n",
    "for split in splits:\n",
    "    split_view = dataset_or_view.match_tags(split)\n",
    "    split_view.export(\n",
    "        export_dir=export_dir,\n",
    "        dataset_type=fo.types.YOLOv5Dataset,\n",
    "        label_field=label_field,\n",
    "        split=split,\n",
    "        classes=classes,\n",
    "    )"
   ]
  },
  {
   "cell_type": "code",
   "execution_count": null,
   "id": "5da6f3e3-6ad4-4cb7-b0c4-d46320c3244c",
   "metadata": {},
   "outputs": [],
   "source": []
  }
 ],
 "metadata": {
  "kernelspec": {
   "display_name": "Python 3 (ipykernel)",
   "language": "python",
   "name": "python3"
  },
  "language_info": {
   "codemirror_mode": {
    "name": "ipython",
    "version": 3
   },
   "file_extension": ".py",
   "mimetype": "text/x-python",
   "name": "python",
   "nbconvert_exporter": "python",
   "pygments_lexer": "ipython3",
   "version": "3.8.10"
  }
 },
 "nbformat": 4,
 "nbformat_minor": 5
}
