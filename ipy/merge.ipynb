{
 "cells": [
  {
   "cell_type": "markdown",
   "id": "ce288294",
   "metadata": {},
   "source": [
    "Consider you have 2 classes and the annotations for each class (object) is in a seperate file.  \n",
    "Example: you have 2 objects in 'image.jpg', dog and cat. Dog annotation is in folder2/image.txt and cat annotation is in folder2/image.txt  (they are two different files), now you want to merge them to be in one files. You can do this by this code."
   ]
  },
  {
   "cell_type": "code",
   "execution_count": 1,
   "id": "23614661-3d07-4b7d-835c-82eb0f6e9fb3",
   "metadata": {},
   "outputs": [],
   "source": [
    "import os\n",
    "import numpy as np"
   ]
  },
  {
   "cell_type": "code",
   "execution_count": null,
   "id": "6a5dc93a-1c6f-4825-bdcd-149727bdd877",
   "metadata": {},
   "outputs": [],
   "source": [
    "path1 = 'ts/'\n",
    "path2 = 'dataset/labels/train/'"
   ]
  },
  {
   "cell_type": "code",
   "execution_count": 2,
   "id": "97d220ee-25bb-46ab-b9e6-286115167fef",
   "metadata": {},
   "outputs": [],
   "source": [
    "for label in os.listdir(path1):\n",
    "    ts_label = np.loadtxt(path1+label).tolist()\n",
    "    tl_label = np.loadtxt(path2+label).tolist()\n",
    "    \n",
    "    if (type(ts_label[0]) == list) and (type(tl_label[0]) == list):\n",
    "        new_label = tl_label + ts_label\n",
    "        np.savetxt('new-labels/'+label, new_label, fmt='%.10g')\n",
    "    else:\n",
    "        if (type(ts_label[0]) == list) and (type(tl_label[0]) != list):\n",
    "            new_label = [tl_label] + ts_label\n",
    "            np.savetxt('new-labels/'+label, new_label, fmt='%.10g')\n",
    "        elif (type(ts_label[0]) != list) and (type(tl_label[0]) == list):\n",
    "            new_label = tl_label + [ts_label]\n",
    "            np.savetxt('new-labels/'+label, new_label, fmt='%.10g')\n",
    "        else:\n",
    "            new_label = [tl_label] + [ts_label]\n",
    "            np.savetxt('new-labels/'+label, new_label, fmt='%.10g')"
   ]
  }
 ],
 "metadata": {
  "kernelspec": {
   "display_name": "Python 3 (ipykernel)",
   "language": "python",
   "name": "python3"
  },
  "language_info": {
   "codemirror_mode": {
    "name": "ipython",
    "version": 3
   },
   "file_extension": ".py",
   "mimetype": "text/x-python",
   "name": "python",
   "nbconvert_exporter": "python",
   "pygments_lexer": "ipython3",
   "version": "3.8.10"
  }
 },
 "nbformat": 4,
 "nbformat_minor": 5
}
