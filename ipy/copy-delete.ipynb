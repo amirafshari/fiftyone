{
 "cells": [
  {
   "cell_type": "code",
   "execution_count": 1,
   "id": "1905ea7d-a739-49b3-bd25-cf960d9d8091",
   "metadata": {},
   "outputs": [],
   "source": [
    "import numpy as np\n",
    "import shutil\n",
    "import os"
   ]
  },
  {
   "cell_type": "code",
   "execution_count": 3,
   "id": "978886db-72e4-4e92-af2f-687f2eda0aad",
   "metadata": {},
   "outputs": [],
   "source": [
    "edit = np.loadtxt('edit.txt', delimiter='\\t', dtype=str)\n",
    "#delete = np.loadtxt('paths/delete.txt', delimiter='\\t', dtype=str)"
   ]
  },
  {
   "cell_type": "markdown",
   "id": "91e54890-2ad5-44f2-9953-9ed9cb54e3ad",
   "metadata": {},
   "source": [
    "# Copy"
   ]
  },
  {
   "cell_type": "code",
   "execution_count": 4,
   "id": "1c5f8d6d-62b0-4826-b366-dc5f8e831fbf",
   "metadata": {},
   "outputs": [],
   "source": [
    "for item in edit:\n",
    "    shutil.copyfile(os.path.join('dataset/images/train/', item), os.path.join('edit/', item))\n",
    "    label = item.replace(item[-4:], '.txt')\n",
    "    shutil.copyfile(os.path.join('dataset/labels/train/', label), os.path.join('edit/labels/', label))"
   ]
  },
  {
   "cell_type": "markdown",
   "id": "8a31c29a-f665-463c-99fa-c78ed0516b15",
   "metadata": {},
   "source": [
    "# Delete"
   ]
  },
  {
   "cell_type": "code",
   "execution_count": 15,
   "id": "a989f3d6-efd2-41b2-9a8a-52764d9d2721",
   "metadata": {},
   "outputs": [],
   "source": [
    "for item in delete:\n",
    "    try:\n",
    "        os.remove(os.path.join('dataset/images/train/', item))\n",
    "        item = item.replace(item[-4:], '.txt')\n",
    "        os.remove(os.path.join('dataset/labels/train/', item))\n",
    "    except FileNotFoundError:\n",
    "        pass"
   ]
  },
  {
   "cell_type": "code",
   "execution_count": null,
   "id": "3aa5dbe5-a3fb-40dd-8665-3bf280816191",
   "metadata": {},
   "outputs": [],
   "source": []
  }
 ],
 "metadata": {
  "kernelspec": {
   "display_name": "Python 3 (ipykernel)",
   "language": "python",
   "name": "python3"
  },
  "language_info": {
   "codemirror_mode": {
    "name": "ipython",
    "version": 3
   },
   "file_extension": ".py",
   "mimetype": "text/x-python",
   "name": "python",
   "nbconvert_exporter": "python",
   "pygments_lexer": "ipython3",
   "version": "3.8.10"
  }
 },
 "nbformat": 4,
 "nbformat_minor": 5
}
