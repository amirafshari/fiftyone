{
 "cells": [
  {
   "cell_type": "markdown",
   "id": "1d718a4e-8d9f-456c-b34b-fff19252680a",
   "metadata": {},
   "source": [
    "# Dataset"
   ]
  },
  {
   "cell_type": "code",
   "execution_count": 1,
   "id": "ebd9a34e-72ce-4c2b-b1c9-7de98336859d",
   "metadata": {},
   "outputs": [],
   "source": [
    "import fiftyone as fo"
   ]
  },
  {
   "cell_type": "markdown",
   "id": "507d6bd4-724a-4c75-8f60-f31a73027349",
   "metadata": {},
   "source": [
    "### Create the dataset\n",
    "https://voxel51.com/docs/fiftyone/user_guide/dataset_creation/datasets.html"
   ]
  },
  {
   "cell_type": "code",
   "execution_count": 2,
   "id": "97d8f4f2-1019-4dce-a87d-cb0f3c479aee",
   "metadata": {},
   "outputs": [],
   "source": [
    "name = \"traffic_sign-light\""
   ]
  },
  {
   "cell_type": "code",
   "execution_count": 4,
   "id": "8e868853-013b-423d-9bc7-4cab6bf812c8",
   "metadata": {
    "tags": []
   },
   "outputs": [
    {
     "name": "stdout",
     "output_type": "stream",
     "text": []
    },
    {
     "name": "stdout",
     "output_type": "stream",
     "text": [
      " 100% |███████████████| 3497/3497 [3.7s elapsed, 0s remaining, 1.0K samples/s]       \n"
     ]
    }
   ],
   "source": [
    "dataset_dir = \"dataset/\"\n",
    "splits = [\"train\"]\n",
    "\n",
    "dataset = fo.Dataset(name)\n",
    "\n",
    "for split in splits:\n",
    "    dataset.add_dir(\n",
    "        dataset_dir=dataset_dir,\n",
    "        dataset_type=fo.types.YOLOv5Dataset,\n",
    "        split=split,\n",
    "        tags=split,\n",
    ")"
   ]
  },
  {
   "cell_type": "markdown",
   "id": "27b26f0a-e590-49ed-ac4b-98d92237d8ff",
   "metadata": {},
   "source": [
    "### Load the dataset"
   ]
  },
  {
   "cell_type": "code",
   "execution_count": 3,
   "id": "a7cd35b1-438d-4000-9921-a04cb9ed1d73",
   "metadata": {
    "collapsed": true,
    "jupyter": {
     "outputs_hidden": true
    },
    "tags": []
   },
   "outputs": [
    {
     "ename": "ValueError",
     "evalue": "Dataset 'traffic_sign-light' not found",
     "output_type": "error",
     "traceback": [
      "\u001b[0;31m---------------------------------------------------------------------------\u001b[0m",
      "\u001b[0;31mValueError\u001b[0m                                Traceback (most recent call last)",
      "\u001b[0;32m/tmp/ipykernel_28713/519322068.py\u001b[0m in \u001b[0;36m<module>\u001b[0;34m\u001b[0m\n\u001b[0;32m----> 1\u001b[0;31m \u001b[0mdataset\u001b[0m \u001b[0;34m=\u001b[0m \u001b[0mfo\u001b[0m\u001b[0;34m.\u001b[0m\u001b[0mload_dataset\u001b[0m\u001b[0;34m(\u001b[0m\u001b[0mname\u001b[0m\u001b[0;34m)\u001b[0m\u001b[0;34m\u001b[0m\u001b[0;34m\u001b[0m\u001b[0m\n\u001b[0m",
      "\u001b[0;32m~/.local/lib/python3.8/site-packages/fiftyone/core/dataset.py\u001b[0m in \u001b[0;36mload_dataset\u001b[0;34m(name)\u001b[0m\n\u001b[1;32m     97\u001b[0m         \u001b[0ma\u001b[0m \u001b[0;34m:\u001b[0m\u001b[0;32mclass\u001b[0m\u001b[0;34m:\u001b[0m\u001b[0;31m`\u001b[0m\u001b[0mDataset\u001b[0m\u001b[0;31m`\u001b[0m\u001b[0;34m\u001b[0m\u001b[0;34m\u001b[0m\u001b[0m\n\u001b[1;32m     98\u001b[0m     \"\"\"\n\u001b[0;32m---> 99\u001b[0;31m     \u001b[0;32mreturn\u001b[0m \u001b[0mDataset\u001b[0m\u001b[0;34m(\u001b[0m\u001b[0mname\u001b[0m\u001b[0;34m,\u001b[0m \u001b[0m_create\u001b[0m\u001b[0;34m=\u001b[0m\u001b[0;32mFalse\u001b[0m\u001b[0;34m)\u001b[0m\u001b[0;34m\u001b[0m\u001b[0;34m\u001b[0m\u001b[0m\n\u001b[0m\u001b[1;32m    100\u001b[0m \u001b[0;34m\u001b[0m\u001b[0m\n\u001b[1;32m    101\u001b[0m \u001b[0;34m\u001b[0m\u001b[0m\n",
      "\u001b[0;32m~/.local/lib/python3.8/site-packages/fiftyone/core/singletons.py\u001b[0m in \u001b[0;36m__call__\u001b[0;34m(cls, name, _create, *args, **kwargs)\u001b[0m\n\u001b[1;32m     31\u001b[0m         ):\n\u001b[1;32m     32\u001b[0m             \u001b[0minstance\u001b[0m \u001b[0;34m=\u001b[0m \u001b[0mcls\u001b[0m\u001b[0;34m.\u001b[0m\u001b[0m__new__\u001b[0m\u001b[0;34m(\u001b[0m\u001b[0mcls\u001b[0m\u001b[0;34m)\u001b[0m\u001b[0;34m\u001b[0m\u001b[0;34m\u001b[0m\u001b[0m\n\u001b[0;32m---> 33\u001b[0;31m             \u001b[0minstance\u001b[0m\u001b[0;34m.\u001b[0m\u001b[0m__init__\u001b[0m\u001b[0;34m(\u001b[0m\u001b[0mname\u001b[0m\u001b[0;34m=\u001b[0m\u001b[0mname\u001b[0m\u001b[0;34m,\u001b[0m \u001b[0m_create\u001b[0m\u001b[0;34m=\u001b[0m\u001b[0m_create\u001b[0m\u001b[0;34m,\u001b[0m \u001b[0;34m*\u001b[0m\u001b[0margs\u001b[0m\u001b[0;34m,\u001b[0m \u001b[0;34m**\u001b[0m\u001b[0mkwargs\u001b[0m\u001b[0;34m)\u001b[0m\u001b[0;34m\u001b[0m\u001b[0;34m\u001b[0m\u001b[0m\n\u001b[0m\u001b[1;32m     34\u001b[0m             \u001b[0mname\u001b[0m \u001b[0;34m=\u001b[0m \u001b[0minstance\u001b[0m\u001b[0;34m.\u001b[0m\u001b[0mname\u001b[0m  \u001b[0;31m# `__init__` may have changed `name`\u001b[0m\u001b[0;34m\u001b[0m\u001b[0;34m\u001b[0m\u001b[0m\n\u001b[1;32m     35\u001b[0m             \u001b[0mcls\u001b[0m\u001b[0;34m.\u001b[0m\u001b[0m_instances\u001b[0m\u001b[0;34m[\u001b[0m\u001b[0mname\u001b[0m\u001b[0;34m]\u001b[0m \u001b[0;34m=\u001b[0m \u001b[0minstance\u001b[0m\u001b[0;34m\u001b[0m\u001b[0;34m\u001b[0m\u001b[0m\n",
      "\u001b[0;32m~/.local/lib/python3.8/site-packages/fiftyone/core/dataset.py\u001b[0m in \u001b[0;36m__init__\u001b[0;34m(self, name, persistent, overwrite, _create, _virtual, **kwargs)\u001b[0m\n\u001b[1;32m    236\u001b[0m             )\n\u001b[1;32m    237\u001b[0m         \u001b[0;32melse\u001b[0m\u001b[0;34m:\u001b[0m\u001b[0;34m\u001b[0m\u001b[0;34m\u001b[0m\u001b[0m\n\u001b[0;32m--> 238\u001b[0;31m             doc, sample_doc_cls, frame_doc_cls = _load_dataset(\n\u001b[0m\u001b[1;32m    239\u001b[0m                 \u001b[0mname\u001b[0m\u001b[0;34m,\u001b[0m \u001b[0mvirtual\u001b[0m\u001b[0;34m=\u001b[0m\u001b[0m_virtual\u001b[0m\u001b[0;34m\u001b[0m\u001b[0;34m\u001b[0m\u001b[0m\n\u001b[1;32m    240\u001b[0m             )\n",
      "\u001b[0;32m~/.local/lib/python3.8/site-packages/fiftyone/core/dataset.py\u001b[0m in \u001b[0;36m_load_dataset\u001b[0;34m(name, virtual)\u001b[0m\n\u001b[1;32m   4577\u001b[0m \u001b[0;32mdef\u001b[0m \u001b[0m_load_dataset\u001b[0m\u001b[0;34m(\u001b[0m\u001b[0mname\u001b[0m\u001b[0;34m,\u001b[0m \u001b[0mvirtual\u001b[0m\u001b[0;34m=\u001b[0m\u001b[0;32mFalse\u001b[0m\u001b[0;34m)\u001b[0m\u001b[0;34m:\u001b[0m\u001b[0;34m\u001b[0m\u001b[0;34m\u001b[0m\u001b[0m\n\u001b[1;32m   4578\u001b[0m     \u001b[0;32mif\u001b[0m \u001b[0;32mnot\u001b[0m \u001b[0mvirtual\u001b[0m\u001b[0;34m:\u001b[0m\u001b[0;34m\u001b[0m\u001b[0;34m\u001b[0m\u001b[0m\n\u001b[0;32m-> 4579\u001b[0;31m         \u001b[0mfomi\u001b[0m\u001b[0;34m.\u001b[0m\u001b[0mmigrate_dataset_if_necessary\u001b[0m\u001b[0;34m(\u001b[0m\u001b[0mname\u001b[0m\u001b[0;34m)\u001b[0m\u001b[0;34m\u001b[0m\u001b[0;34m\u001b[0m\u001b[0m\n\u001b[0m\u001b[1;32m   4580\u001b[0m \u001b[0;34m\u001b[0m\u001b[0m\n\u001b[1;32m   4581\u001b[0m     \u001b[0;32mtry\u001b[0m\u001b[0;34m:\u001b[0m\u001b[0;34m\u001b[0m\u001b[0;34m\u001b[0m\u001b[0m\n",
      "\u001b[0;32m~/.local/lib/python3.8/site-packages/fiftyone/migrations/runner.py\u001b[0m in \u001b[0;36mmigrate_dataset_if_necessary\u001b[0;34m(name, destination, verbose)\u001b[0m\n\u001b[1;32m    164\u001b[0m         \u001b[0mdestination\u001b[0m \u001b[0;34m=\u001b[0m \u001b[0mfoc\u001b[0m\u001b[0;34m.\u001b[0m\u001b[0mVERSION\u001b[0m\u001b[0;34m\u001b[0m\u001b[0;34m\u001b[0m\u001b[0m\n\u001b[1;32m    165\u001b[0m \u001b[0;34m\u001b[0m\u001b[0m\n\u001b[0;32m--> 166\u001b[0;31m     \u001b[0mhead\u001b[0m \u001b[0;34m=\u001b[0m \u001b[0mget_dataset_revision\u001b[0m\u001b[0;34m(\u001b[0m\u001b[0mname\u001b[0m\u001b[0;34m)\u001b[0m\u001b[0;34m\u001b[0m\u001b[0;34m\u001b[0m\u001b[0m\n\u001b[0m\u001b[1;32m    167\u001b[0m     \u001b[0;32mif\u001b[0m \u001b[0mhead\u001b[0m \u001b[0;32mis\u001b[0m \u001b[0;32mNone\u001b[0m\u001b[0;34m:\u001b[0m\u001b[0;34m\u001b[0m\u001b[0;34m\u001b[0m\u001b[0m\n\u001b[1;32m    168\u001b[0m         \u001b[0mhead\u001b[0m \u001b[0;34m=\u001b[0m \u001b[0;34m\"0.0\"\u001b[0m  \u001b[0;31m# < v0.6.2\u001b[0m\u001b[0;34m\u001b[0m\u001b[0;34m\u001b[0m\u001b[0m\n",
      "\u001b[0;32m~/.local/lib/python3.8/site-packages/fiftyone/migrations/runner.py\u001b[0m in \u001b[0;36mget_dataset_revision\u001b[0;34m(name)\u001b[0m\n\u001b[1;32m     52\u001b[0m     \u001b[0mdataset_doc\u001b[0m \u001b[0;34m=\u001b[0m \u001b[0mconn\u001b[0m\u001b[0;34m.\u001b[0m\u001b[0mdatasets\u001b[0m\u001b[0;34m.\u001b[0m\u001b[0mfind_one\u001b[0m\u001b[0;34m(\u001b[0m\u001b[0;34m{\u001b[0m\u001b[0;34m\"name\"\u001b[0m\u001b[0;34m:\u001b[0m \u001b[0mname\u001b[0m\u001b[0;34m}\u001b[0m\u001b[0;34m)\u001b[0m\u001b[0;34m\u001b[0m\u001b[0;34m\u001b[0m\u001b[0m\n\u001b[1;32m     53\u001b[0m     \u001b[0;32mif\u001b[0m \u001b[0mdataset_doc\u001b[0m \u001b[0;32mis\u001b[0m \u001b[0;32mNone\u001b[0m\u001b[0;34m:\u001b[0m\u001b[0;34m\u001b[0m\u001b[0;34m\u001b[0m\u001b[0m\n\u001b[0;32m---> 54\u001b[0;31m         \u001b[0;32mraise\u001b[0m \u001b[0mValueError\u001b[0m\u001b[0;34m(\u001b[0m\u001b[0;34m\"Dataset '%s' not found\"\u001b[0m \u001b[0;34m%\u001b[0m \u001b[0mname\u001b[0m\u001b[0;34m)\u001b[0m\u001b[0;34m\u001b[0m\u001b[0;34m\u001b[0m\u001b[0m\n\u001b[0m\u001b[1;32m     55\u001b[0m \u001b[0;34m\u001b[0m\u001b[0m\n\u001b[1;32m     56\u001b[0m     \u001b[0;32mreturn\u001b[0m \u001b[0mdataset_doc\u001b[0m\u001b[0;34m.\u001b[0m\u001b[0mget\u001b[0m\u001b[0;34m(\u001b[0m\u001b[0;34m\"version\"\u001b[0m\u001b[0;34m,\u001b[0m \u001b[0;32mNone\u001b[0m\u001b[0;34m)\u001b[0m\u001b[0;34m\u001b[0m\u001b[0;34m\u001b[0m\u001b[0m\n",
      "\u001b[0;31mValueError\u001b[0m: Dataset 'traffic_sign-light' not found"
     ]
    }
   ],
   "source": [
    "dataset = fo.load_dataset(name)"
   ]
  },
  {
   "cell_type": "markdown",
   "id": "1f20bf66-f611-4486-ba43-4b33472baa40",
   "metadata": {},
   "source": [
    "### Make the daatset persistent\n",
    "https://voxel51.com/docs/fiftyone/user_guide/using_datasets.html#dataset-persistence"
   ]
  },
  {
   "cell_type": "code",
   "execution_count": 27,
   "id": "24acf0b3-5497-4eaa-beb9-2be7bd0bdd72",
   "metadata": {},
   "outputs": [],
   "source": [
    "dataset.persistent = True"
   ]
  },
  {
   "cell_type": "markdown",
   "id": "c918da7c-d4bd-4836-b3a8-e27a69817388",
   "metadata": {},
   "source": [
    "### Summary of the dataset"
   ]
  },
  {
   "cell_type": "code",
   "execution_count": null,
   "id": "0fa9ef3a-cd5d-4c38-a2c6-2e4521c91f1e",
   "metadata": {},
   "outputs": [],
   "source": [
    "print(dataset)"
   ]
  },
  {
   "cell_type": "code",
   "execution_count": null,
   "id": "6b21dc6a-a6cd-4478-a2c3-4036104f59a6",
   "metadata": {},
   "outputs": [],
   "source": [
    "len(dataset)"
   ]
  },
  {
   "cell_type": "markdown",
   "id": "a3ac1ccf-5e95-49a0-a34a-2c6476c6f775",
   "metadata": {
    "tags": []
   },
   "source": [
    "### Launch the dataset\n",
    "http://localhost:5151/"
   ]
  },
  {
   "cell_type": "code",
   "execution_count": 5,
   "id": "ebe6055f-8888-4e67-bedb-23cf57a2b87c",
   "metadata": {
    "tags": []
   },
   "outputs": [
    {
     "data": {
      "text/html": [
       "\n",
       "        <iframe\n",
       "            width=\"100%\"\n",
       "            height=\"800\"\n",
       "            src=\"http://localhost:5151/?notebook=true&handleId=e46bef85-1017-4779-a394-90a43d9c93cc\"\n",
       "            frameborder=\"0\"\n",
       "            allowfullscreen\n",
       "            \n",
       "        ></iframe>\n",
       "        "
      ],
      "text/plain": [
       "<IPython.lib.display.IFrame at 0x7fb6513cac10>"
      ]
     },
     "metadata": {},
     "output_type": "display_data"
    }
   ],
   "source": [
    "session = fo.launch_app(dataset)"
   ]
  },
  {
   "cell_type": "markdown",
   "id": "9869cfc1-33b7-4eeb-b7d9-6b032112ab7b",
   "metadata": {},
   "source": [
    "### List the datasets"
   ]
  },
  {
   "cell_type": "code",
   "execution_count": null,
   "id": "92265038-fc14-4aae-9487-93dcc3c281c6",
   "metadata": {},
   "outputs": [],
   "source": [
    "fo.list_datasets()"
   ]
  },
  {
   "cell_type": "markdown",
   "id": "ec21e826-6197-420e-9357-3b937084aff5",
   "metadata": {},
   "source": [
    "### Delete the dataset"
   ]
  },
  {
   "cell_type": "code",
   "execution_count": 4,
   "id": "28313d11-61bf-4957-b89f-a1c496fa9d9f",
   "metadata": {},
   "outputs": [],
   "source": [
    "fo.delete_dataset(name)"
   ]
  },
  {
   "cell_type": "markdown",
   "id": "dba76221-b2d4-4c2a-91dc-d633161b2d70",
   "metadata": {},
   "source": [
    "### Clear Session"
   ]
  },
  {
   "cell_type": "code",
   "execution_count": 17,
   "id": "eefb7dae-c113-4b59-ae81-22d81359f4e3",
   "metadata": {
    "tags": []
   },
   "outputs": [
    {
     "data": {
      "text/html": [
       "\n",
       "<style>\n",
       "@import url(\"https://fonts.googleapis.com/css2?family=Palanquin&display=swap\");\n",
       "\n",
       "#focontainer-190bac6e-0507-48b2-bc11-25c13bfa9f55 {\n",
       "  position: relative;\n",
       "  display: block !important;\n",
       "}\n",
       "#foactivate-190bac6e-0507-48b2-bc11-25c13bfa9f55 {\n",
       "  font-weight: bold;\n",
       "  cursor: pointer;\n",
       "  font-size: 24px;\n",
       "  border-radius: 3px;\n",
       "  text-align: center;\n",
       "  padding: 0.5em;\n",
       "  color: rgb(255, 255, 255);\n",
       "  font-family: \"Palanquin\", sans-serif;\n",
       "  position: absolute;\n",
       "  left: 50%;\n",
       "  top: 50%;\n",
       "  width: 160px;\n",
       "  margin-left: -80px;\n",
       "  margin-top: -23px;\n",
       "  background: hsla(210,11%,15%, 0.8);\n",
       "  border: none;\n",
       "}\n",
       "#foactivate-190bac6e-0507-48b2-bc11-25c13bfa9f55:focus {\n",
       "  outline: none;\n",
       "}\n",
       "#fooverlay-190bac6e-0507-48b2-bc11-25c13bfa9f55 {\n",
       "  width: 100%;\n",
       "  height: 100%;\n",
       "  background: hsla(208, 7%, 46%, 0.7);\n",
       "  position: absolute;\n",
       "  top: 0;\n",
       "  left: 0;\n",
       "  display: none;\n",
       "  cursor: pointer;\n",
       "}\n",
       "</style>\n",
       "\n",
       "<div id=\"focontainer-190bac6e-0507-48b2-bc11-25c13bfa9f55\">\n",
       "   <div id=\"fooverlay-190bac6e-0507-48b2-bc11-25c13bfa9f55\" style=\"display: none;\">\n",
       "      <button id=\"foactivate-190bac6e-0507-48b2-bc11-25c13bfa9f55\" >Activate</button>\n",
       "   </div>\n",
       "   <img src='data:image/png;base64,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' style=\"width: 100%; max-width: 1292px;\"/>\n",
       "</div>\n",
       "\n",
       "<script type=\"text/javascript\">\n",
       "   (function() {\n",
       "     var container = document.getElementById(\"focontainer-190bac6e-0507-48b2-bc11-25c13bfa9f55\");\n",
       "     var overlay = document.getElementById(\"fooverlay-190bac6e-0507-48b2-bc11-25c13bfa9f55\");\n",
       "     fetch(`http://localhost:5151/notebook?handleId=190bac6e-0507-48b2-bc11-25c13bfa9f55`)\n",
       "     .then((response) => response.json())\n",
       "     .then(() => {\n",
       "        overlay.addEventListener(\"click\", () => {\n",
       "          fetch(`http://localhost:5151/reactivate?handleId=190bac6e-0507-48b2-bc11-25c13bfa9f55`)\n",
       "        });\n",
       "        container.addEventListener(\"mouseenter\", () => overlay.style.display = \"block\");\n",
       "        container.addEventListener(\"mouseleave\", () => overlay.style.display = \"none\");\n",
       "     });\n",
       "   })();\n",
       "</script>"
      ],
      "text/plain": [
       "<IPython.core.display.HTML object>"
      ]
     },
     "metadata": {},
     "output_type": "display_data"
    }
   ],
   "source": [
    "session.clear_dataset()\n",
    "session.close()"
   ]
  },
  {
   "cell_type": "markdown",
   "id": "1077e6f0-1ae1-4cec-aae8-fac3110e7be7",
   "metadata": {},
   "source": [
    "# Make changes to the dataset"
   ]
  },
  {
   "cell_type": "markdown",
   "id": "5b68e3e4-b4a0-4451-881b-628376758ae4",
   "metadata": {},
   "source": [
    "### Dataset view"
   ]
  },
  {
   "cell_type": "code",
   "execution_count": null,
   "id": "5bf38035-27e2-4195-923d-a18cf490cbb4",
   "metadata": {},
   "outputs": [],
   "source": [
    "view = dataset.view()"
   ]
  },
  {
   "cell_type": "code",
   "execution_count": null,
   "id": "6bb3fbad-f476-4b76-a80f-098543f96aaf",
   "metadata": {},
   "outputs": [],
   "source": [
    "session = fo.launch_app(view)"
   ]
  },
  {
   "cell_type": "markdown",
   "id": "eea8e01f-4887-463a-9c28-7f97b0dbb526",
   "metadata": {},
   "source": [
    "### Selected Images IDs"
   ]
  },
  {
   "cell_type": "code",
   "execution_count": null,
   "id": "b5c048b4-2273-408f-94ff-628fdceda894",
   "metadata": {},
   "outputs": [],
   "source": [
    "selected = session.selected"
   ]
  },
  {
   "cell_type": "markdown",
   "id": "e196c212-070f-4848-bfd4-3aa577aa3d99",
   "metadata": {},
   "source": [
    "### Iterate over samples"
   ]
  },
  {
   "cell_type": "code",
   "execution_count": 13,
   "id": "3161d460-af63-43c1-96ec-7b1d13b925a4",
   "metadata": {},
   "outputs": [],
   "source": [
    "delete_files = []\n",
    "edit_files = []"
   ]
  },
  {
   "cell_type": "code",
   "execution_count": 14,
   "id": "c73462ab-1d57-4784-a451-f75084d73f80",
   "metadata": {},
   "outputs": [],
   "source": [
    "# sample tags\n",
    "for sample in dataset:\n",
    "    if 'delete' in sample['tags']:\n",
    "        delete_files.append(sample['filepath'])\n",
    "        \n",
    "# sample tags\n",
    "for sample in dataset:\n",
    "    if 'edit' in sample['tags']:\n",
    "        edit_files.append(sample['filepath'])\n",
    "        "
   ]
  },
  {
   "cell_type": "code",
   "execution_count": null,
   "id": "5a2c28d6-23a4-429e-937d-afffe6a04e2f",
   "metadata": {
    "tags": []
   },
   "outputs": [],
   "source": [
    "# label tags\n",
    "for sample in dataset:\n",
    "    new_sample = sample['ground_truth']['detections']\n",
    "    for spl in new_sample:\n",
    "        if spl['tags'] == ['add']:\n",
    "            add_files.append(sample['filepath'])"
   ]
  },
  {
   "cell_type": "code",
   "execution_count": null,
   "id": "2238aac9-9071-4ba8-9d3e-0485a2965ece",
   "metadata": {},
   "outputs": [],
   "source": [
    "len(delete_files)"
   ]
  },
  {
   "cell_type": "code",
   "execution_count": 15,
   "id": "e74a46b2-3161-4d76-82eb-246b3422d544",
   "metadata": {},
   "outputs": [],
   "source": [
    "import numpy as np\n",
    "np.savetxt('delete.txt', delete_files, fmt='%s')\n",
    "np.savetxt('edit.txt', edit_files, fmt='%s')"
   ]
  },
  {
   "cell_type": "markdown",
   "id": "ec9d98aa-2590-4db1-950b-b3c425bf5ac7",
   "metadata": {},
   "source": [
    "### Delete them from dataset by ID"
   ]
  },
  {
   "cell_type": "code",
   "execution_count": null,
   "id": "483727b4-77db-4e68-8d52-eef41e2bb1cc",
   "metadata": {},
   "outputs": [],
   "source": [
    "for item in delete_ids:\n",
    "    del dataset[item]"
   ]
  },
  {
   "cell_type": "markdown",
   "id": "064f7cd0-b553-4184-abfd-426b2e3ecf26",
   "metadata": {},
   "source": [
    "# Brain"
   ]
  },
  {
   "cell_type": "code",
   "execution_count": null,
   "id": "9f9c3e9c-f1c2-4896-bc53-7b90d6eabe94",
   "metadata": {},
   "outputs": [],
   "source": [
    "import fiftyone.brain as fob"
   ]
  },
  {
   "cell_type": "markdown",
   "id": "74006ec8-6f47-4f11-9351-755d4fed53fd",
   "metadata": {},
   "source": [
    "### Find unique samples"
   ]
  },
  {
   "cell_type": "code",
   "execution_count": null,
   "id": "6bbd5cc5-fd35-45cd-9410-2e3097cb5183",
   "metadata": {},
   "outputs": [],
   "source": [
    "results = fob.compute_similarity(dataset, brain_key=\"img_sim\")\n",
    "results.find_unique(100)"
   ]
  },
  {
   "cell_type": "code",
   "execution_count": null,
   "id": "7890c0fa-2e31-4f90-84ba-126b8c71a91c",
   "metadata": {},
   "outputs": [],
   "source": [
    "vis_results = fob.compute_visualization(dataset, brain_key=\"img_vis\")"
   ]
  },
  {
   "cell_type": "code",
   "execution_count": null,
   "id": "fc3fd120-60fb-43e2-af3f-1a2e6d87581d",
   "metadata": {},
   "outputs": [],
   "source": [
    "plot = results.visualize_unique(visualization=vis_results)\n",
    "plot.show()"
   ]
  },
  {
   "cell_type": "code",
   "execution_count": null,
   "id": "45404c19-1b7c-4888-ac15-cd8a5090e629",
   "metadata": {},
   "outputs": [],
   "source": [
    "session.plots.attach(plot, name=\"unique\")\n",
    "session.show()"
   ]
  },
  {
   "cell_type": "markdown",
   "id": "bbf66a79-c0ba-4c4c-b2f0-8c0abbbb9909",
   "metadata": {},
   "source": [
    "### Visual similarity"
   ]
  },
  {
   "cell_type": "code",
   "execution_count": null,
   "id": "eae24af6-1d14-4dfe-b8aa-87295b74a1a6",
   "metadata": {
    "tags": []
   },
   "outputs": [],
   "source": [
    "# index images by similarity\n",
    "fob.compute_similarity(dataset, brain_key=\"image_sim\")\n",
    "\n",
    "# launch the app and then select an image and then apply image_sim with sort by similarity button\n",
    "session = fo.launch_app(dataset)"
   ]
  },
  {
   "cell_type": "code",
   "execution_count": null,
   "id": "c6415289-4b8a-4e60-ba32-65a75cab947c",
   "metadata": {},
   "outputs": [],
   "source": [
    "# Choose a random image from the dataset\n",
    "query_id = dataset.take(1).first().id\n",
    "\n",
    "# Programmatically construct a view containing the 15 most similar images\n",
    "view = dataset.sort_by_similarity(query_id, k=15, brain_key=\"image_sim\")\n",
    "\n",
    "# View results in App\n",
    "session.view = view"
   ]
  },
  {
   "cell_type": "markdown",
   "id": "bb4ce2f5-3549-46aa-87f9-daa71a73acf1",
   "metadata": {},
   "source": [
    "# Export the new dataset"
   ]
  },
  {
   "cell_type": "code",
   "execution_count": null,
   "id": "6a5e8645",
   "metadata": {},
   "outputs": [],
   "source": [
    "import fiftyone as fo\n",
    "\n",
    "export_dir = \"yolov5-dataset/\"\n",
    "label_field = \"ground_truth\"  # for example\n",
    "\n",
    "# The splits to export\n",
    "splits = [\"train\", \"val\", 'test']\n",
    "\n",
    "# All splits must use the same classes list\n",
    "classes = ['traffic_sign']\n",
    "\n",
    "# The dataset or view to export\n",
    "# We assume the dataset uses sample tags to encode the splits to export\n",
    "dataset_or_view = dataset\n",
    "\n",
    "# Export the splits\n",
    "for split in splits:\n",
    "    split_view = dataset_or_view.match_tags(split)\n",
    "    split_view.export(\n",
    "        export_dir=export_dir,\n",
    "        dataset_type=fo.types.YOLOv5Dataset,\n",
    "        label_field=label_field,\n",
    "        split=split,\n",
    "        classes=classes,\n",
    "    )"
   ]
  },
  {
   "cell_type": "code",
   "execution_count": null,
   "id": "5da6f3e3-6ad4-4cb7-b0c4-d46320c3244c",
   "metadata": {},
   "outputs": [],
   "source": []
  }
 ],
 "metadata": {
  "kernelspec": {
   "display_name": "Python 3 (ipykernel)",
   "language": "python",
   "name": "python3"
  },
  "language_info": {
   "codemirror_mode": {
    "name": "ipython",
    "version": 3
   },
   "file_extension": ".py",
   "mimetype": "text/x-python",
   "name": "python",
   "nbconvert_exporter": "python",
   "pygments_lexer": "ipython3",
   "version": "3.8.10"
  }
 },
 "nbformat": 4,
 "nbformat_minor": 5
}
