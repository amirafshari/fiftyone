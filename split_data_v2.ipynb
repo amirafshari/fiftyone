{
 "cells": [
  {
   "cell_type": "code",
   "execution_count": 1,
   "id": "0548d429-65d0-4750-93d9-3f0e46e54f79",
   "metadata": {},
   "outputs": [],
   "source": [
    "import os\n",
    "import shutil\n",
    "import zipfile\n",
    "import random"
   ]
  },
  {
   "cell_type": "markdown",
   "id": "8be6e695-5e43-41d6-beb5-5a62b9881571",
   "metadata": {},
   "source": [
    "# Train, Val, Test Set"
   ]
  },
  {
   "cell_type": "markdown",
   "id": "a591ce10-4da1-4de5-8b13-7017a7b6080a",
   "metadata": {},
   "source": [
    "# Paths"
   ]
  },
  {
   "cell_type": "code",
   "execution_count": 12,
   "id": "ba9e3545-13ae-43f0-ae9d-f23ac793d507",
   "metadata": {},
   "outputs": [],
   "source": [
    "# path\n",
    "    # labels\n",
    "        # image1.txt\n",
    "        # image2.txt\n",
    "        # .\n",
    "    # image.jpg\n",
    "    # image2.jpg\n",
    "    # .\n",
    "    \n",
    "    \n",
    "# tl \n",
    "bdd100k = 'traffic_light/bdd100k/images/'\n",
    "bosch = 'traffic_light/bosch/images/'\n",
    "\n",
    "# ts\n",
    "gtsdb = 'traffic_sign/gtsdb/images/'\n",
    "tsinghua = 'traffic_sign/tsinghua/images/'\n",
    "nlpr = 'traffic_sign/nlpr/images/'\n",
    "mapillary = 'traffic_sign/mapillary/images/'"
   ]
  },
  {
   "cell_type": "markdown",
   "id": "82f4f678-f968-4077-be6e-5e68256b8393",
   "metadata": {},
   "source": [
    "# Splitor Function - YOLOv5"
   ]
  },
  {
   "cell_type": "code",
   "execution_count": 2,
   "id": "4a0936df-7332-4ce9-a61d-6064a5cb62f0",
   "metadata": {},
   "outputs": [],
   "source": [
    "def splitor(train_size, val_size, test_size, path, img_format):\n",
    "    try:\n",
    "        os.mkdir('dataset')\n",
    "        os.mkdir('dataset/train')\n",
    "        os.mkdir('dataset/test')\n",
    "        os.mkdir('dataset/val')\n",
    "\n",
    "        os.mkdir('dataset/train/images')\n",
    "        os.mkdir('dataset/train/labels')\n",
    "\n",
    "        os.mkdir('dataset/test/images')\n",
    "        os.mkdir('dataset/test/labels')\n",
    "\n",
    "        os.mkdir('dataset/val/images')\n",
    "        os.mkdir('dataset/val/labels')\n",
    "    except FileExistsError:\n",
    "        pass\n",
    "    \n",
    "    \n",
    "    items = []\n",
    "    for item in os.listdir(path):\n",
    "        if item.endswith(img_format):\n",
    "            items.append(item)\n",
    "\n",
    "    random.shuffle(items)\n",
    "\n",
    "\n",
    "    train = []\n",
    "    test = []\n",
    "    val = []\n",
    "    \n",
    "    # train\n",
    "    for i in range(train_size):\n",
    "        train.append(items[i])\n",
    "        items.remove(items[i])\n",
    "    random.shuffle(items)\n",
    "\n",
    "    # val\n",
    "    for i in range(val_size):\n",
    "        val.append(items[i])\n",
    "        items.remove(items[i])\n",
    "    random.shuffle(items)\n",
    "\n",
    "    # test\n",
    "    for i in range(test_size):\n",
    "        test.append(items[i])\n",
    "\n",
    "    try:\n",
    "        for item in train:\n",
    "            shutil.copyfile(path+item, 'dataset/train/images/'+item)\n",
    "\n",
    "            label = item.replace(item[-4:], '.txt')\n",
    "            shutil.copyfile(path+'labels/'+label, 'dataset/train/labels/'+label)\n",
    "            \n",
    "    except FileNotFoundError:\n",
    "        print(item)\n",
    "        \n",
    "        \n",
    "    try:\n",
    "\n",
    "        for item in test:\n",
    "            shutil.copyfile(path+item, 'dataset/test/images/'+item)\n",
    "\n",
    "            label = item.replace(item[-4:], '.txt')\n",
    "            shutil.copyfile(path+'labels/'+label, 'dataset/test/labels/'+label)\n",
    "    except FileNotFoundError:\n",
    "        print(item)\n",
    "        \n",
    "        \n",
    "    try:\n",
    "        for item in val:\n",
    "            shutil.copyfile(path+item, 'dataset/val/images/'+item)\n",
    "\n",
    "            label = item.replace(item[-4:], '.txt')\n",
    "            shutil.copyfile(path+'labels/'+label, 'dataset/val/labels/'+label)\n",
    "            \n",
    "    except FileNotFoundError:\n",
    "        print(item)\n",
    "            \n",
    "    print('Done')"
   ]
  },
  {
   "cell_type": "markdown",
   "id": "eaf4f541-b04e-48cb-8282-402b24864720",
   "metadata": {},
   "source": [
    "# Splitor Function - Fiftyone"
   ]
  },
  {
   "cell_type": "code",
   "execution_count": 17,
   "id": "ee0a3527-664f-4da3-af84-bf39e926ccdc",
   "metadata": {},
   "outputs": [],
   "source": [
    "try:\n",
    "    os.mkdir('fo_dataset/')\n",
    "    os.mkdir('fo_dataset/images/')\n",
    "    os.mkdir('fo_dataset/labels/')\n",
    "    os.mkdir('fo_dataset/images/train/')\n",
    "    os.mkdir('fo_dataset/images/test/')\n",
    "    os.mkdir('fo_dataset/images/val/')\n",
    "    os.mkdir('fo_dataset/labels/train/')\n",
    "    os.mkdir('fo_dataset/labels/test/')\n",
    "    os.mkdir('fo_dataset/labels/val/')\n",
    "except FileExistsError:\n",
    "    pass\n",
    "\n",
    "def yolo_fo(i_path, f_path):\n",
    "    for folder in os.listdir(i_path):\n",
    "        for image in os.listdir(os.path.join(i_path, folder, 'images')):\n",
    "            shutil.copyfile(os.path.join(i_path, folder, 'images/', image), os.path.join(f_path, 'images/', folder, image))\n",
    "            \n",
    "        for label in os.listdir(os.path.join(i_path, folder, 'labels')):\n",
    "            shutil.copyfile(os.path.join(i_path, folder, 'labels/', label), os.path.join(f_path, 'labels/', folder, label))\n",
    "    print('Done')"
   ]
  },
  {
   "cell_type": "code",
   "execution_count": 18,
   "id": "1c8671be-48b2-45d2-adb0-07e0a9e9b015",
   "metadata": {},
   "outputs": [
    {
     "name": "stdout",
     "output_type": "stream",
     "text": [
      "Done\n"
     ]
    }
   ],
   "source": [
    "yolo_fo('dataset', 'fo_dataset')"
   ]
  },
  {
   "cell_type": "code",
   "execution_count": 4,
   "id": "1eb7cbeb-d678-44f7-9693-1fa404708465",
   "metadata": {},
   "outputs": [
    {
     "name": "stdout",
     "output_type": "stream",
     "text": [
      "Done\n"
     ]
    }
   ],
   "source": [
    "splitor(3000, 300, 100, 'merged/', '.jpg')"
   ]
  },
  {
   "cell_type": "markdown",
   "id": "d07993bb-8c9e-4332-a1aa-04610a21d091",
   "metadata": {
    "tags": []
   },
   "source": [
    "# Traffic Light"
   ]
  },
  {
   "cell_type": "markdown",
   "id": "661c73b0-90eb-4c2c-bfa5-1379e4152732",
   "metadata": {
    "tags": []
   },
   "source": [
    "## bdd100k\n",
    "color and shape of many of traffic lights in this dataset are different than traffic lights in Iran.  \n",
    "They are yellow colored. We need a function to choose black traffic lights, or manually choose them!"
   ]
  },
  {
   "cell_type": "code",
   "execution_count": 31,
   "id": "501bec21-c9fc-48e6-a405-4ac4910f4928",
   "metadata": {},
   "outputs": [
    {
     "name": "stdout",
     "output_type": "stream",
     "text": [
      "Done\n"
     ]
    }
   ],
   "source": [
    "splitor(4000, 250, 250, bdd100k, '.jpg')"
   ]
  },
  {
   "cell_type": "markdown",
   "id": "2481bd8c-c497-4196-908f-4d0e8c84d0f3",
   "metadata": {},
   "source": [
    "## bosch"
   ]
  },
  {
   "cell_type": "code",
   "execution_count": 32,
   "id": "1cec345b-d702-463f-bf6c-13a824b5b265",
   "metadata": {},
   "outputs": [
    {
     "name": "stdout",
     "output_type": "stream",
     "text": [
      "Done\n"
     ]
    }
   ],
   "source": [
    "splitor(1000, 150, 150, bosch, '.png')"
   ]
  },
  {
   "cell_type": "markdown",
   "id": "825949b4-38ad-44f1-b0b0-033cdbf095da",
   "metadata": {
    "tags": []
   },
   "source": [
    "# Traffic Sign"
   ]
  },
  {
   "cell_type": "markdown",
   "id": "8e428a6b-0282-469d-800c-852c328d297d",
   "metadata": {},
   "source": [
    "## gtsdb"
   ]
  },
  {
   "cell_type": "code",
   "execution_count": null,
   "id": "ab5d1697-8675-4d06-b945-721583121c5a",
   "metadata": {},
   "outputs": [],
   "source": [
    "splitor()"
   ]
  },
  {
   "cell_type": "markdown",
   "id": "b88e0bb5-ff6f-4135-958f-affdc36072a4",
   "metadata": {},
   "source": [
    "## tsinghua"
   ]
  },
  {
   "cell_type": "code",
   "execution_count": null,
   "id": "7318f90e-bda9-45a0-bce7-886f3f88bbb5",
   "metadata": {},
   "outputs": [],
   "source": [
    "splitor()"
   ]
  }
 ],
 "metadata": {
  "kernelspec": {
   "display_name": "Python 3 (ipykernel)",
   "language": "python",
   "name": "python3"
  },
  "language_info": {
   "codemirror_mode": {
    "name": "ipython",
    "version": 3
   },
   "file_extension": ".py",
   "mimetype": "text/x-python",
   "name": "python",
   "nbconvert_exporter": "python",
   "pygments_lexer": "ipython3",
   "version": "3.8.10"
  }
 },
 "nbformat": 4,
 "nbformat_minor": 5
}
